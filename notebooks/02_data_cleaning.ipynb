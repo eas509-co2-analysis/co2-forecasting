{
 "cells": [
  {
   "cell_type": "markdown",
   "id": "89d169ac-4ab0-41af-85c3-6020f451c787",
   "metadata": {
    "id": "89d169ac-4ab0-41af-85c3-6020f451c787"
   },
   "source": [
    "# Imports"
   ]
  },
  {
   "cell_type": "code",
   "execution_count": 3,
   "id": "d9702090-7411-42c0-9a4b-0aedfbb16841",
   "metadata": {
    "executionInfo": {
     "elapsed": 412,
     "status": "ok",
     "timestamp": 1746031045558,
     "user": {
      "displayName": "Sushrut Gaikwad",
      "userId": "15631276603440254581"
     },
     "user_tz": 240
    },
    "id": "d9702090-7411-42c0-9a4b-0aedfbb16841"
   },
   "outputs": [],
   "source": [
    "import numpy as np\n",
    "import pandas as pd"
   ]
  },
  {
   "cell_type": "code",
   "execution_count": null,
   "id": "96da3c91-6abc-4b10-80c0-d9ba12e2a475",
   "metadata": {
    "colab": {
     "base_uri": "https://localhost:8080/",
     "height": 492
    },
    "executionInfo": {
     "elapsed": 4359,
     "status": "ok",
     "timestamp": 1746031060231,
     "user": {
      "displayName": "Sushrut Gaikwad",
      "userId": "15631276603440254581"
     },
     "user_tz": 240
    },
    "id": "96da3c91-6abc-4b10-80c0-d9ba12e2a475",
    "outputId": "98e0966b-a497-44af-ebdf-5f08734b1d02"
   },
   "outputs": [
    {
     "data": {
      "application/vnd.google.colaboratory.intrinsic+json": {
       "type": "dataframe",
       "variable_name": "df"
      },
      "text/html": [
       "\n",
       "  <div id=\"df-8c6596ad-74e9-4949-bdc4-2f7d8e5bd59f\" class=\"colab-df-container\">\n",
       "    <div>\n",
       "<style scoped>\n",
       "    .dataframe tbody tr th:only-of-type {\n",
       "        vertical-align: middle;\n",
       "    }\n",
       "\n",
       "    .dataframe tbody tr th {\n",
       "        vertical-align: top;\n",
       "    }\n",
       "\n",
       "    .dataframe thead th {\n",
       "        text-align: right;\n",
       "    }\n",
       "</style>\n",
       "<table border=\"1\" class=\"dataframe\">\n",
       "  <thead>\n",
       "    <tr style=\"text-align: right;\">\n",
       "      <th></th>\n",
       "      <th>p (mbar)</th>\n",
       "      <th>T (degC)</th>\n",
       "      <th>Tpot (K)</th>\n",
       "      <th>Tdew (degC)</th>\n",
       "      <th>rh (%)</th>\n",
       "      <th>VPmax (mbar)</th>\n",
       "      <th>VPact (mbar)</th>\n",
       "      <th>VPdef (mbar)</th>\n",
       "      <th>sh (g/kg)</th>\n",
       "      <th>H2OC (mmol/mol)</th>\n",
       "      <th>...</th>\n",
       "      <th>wv (m/s)</th>\n",
       "      <th>max. wv (m/s)</th>\n",
       "      <th>wd (deg)</th>\n",
       "      <th>rain (mm)</th>\n",
       "      <th>raining (s)</th>\n",
       "      <th>SWDR (W/m²)</th>\n",
       "      <th>PAR (µmol/m²/s)</th>\n",
       "      <th>max. PAR (µmol/m²/s)</th>\n",
       "      <th>Tlog (degC)</th>\n",
       "      <th>CO2 (ppm)</th>\n",
       "    </tr>\n",
       "    <tr>\n",
       "      <th>Date Time</th>\n",
       "      <th></th>\n",
       "      <th></th>\n",
       "      <th></th>\n",
       "      <th></th>\n",
       "      <th></th>\n",
       "      <th></th>\n",
       "      <th></th>\n",
       "      <th></th>\n",
       "      <th></th>\n",
       "      <th></th>\n",
       "      <th></th>\n",
       "      <th></th>\n",
       "      <th></th>\n",
       "      <th></th>\n",
       "      <th></th>\n",
       "      <th></th>\n",
       "      <th></th>\n",
       "      <th></th>\n",
       "      <th></th>\n",
       "      <th></th>\n",
       "      <th></th>\n",
       "    </tr>\n",
       "  </thead>\n",
       "  <tbody>\n",
       "    <tr>\n",
       "      <th>2017-01-01 00:10:00</th>\n",
       "      <td>999.77</td>\n",
       "      <td>-4.91</td>\n",
       "      <td>268.27</td>\n",
       "      <td>-8.41</td>\n",
       "      <td>76.3</td>\n",
       "      <td>4.24</td>\n",
       "      <td>3.23</td>\n",
       "      <td>1.00</td>\n",
       "      <td>2.01</td>\n",
       "      <td>3.23</td>\n",
       "      <td>...</td>\n",
       "      <td>0.78</td>\n",
       "      <td>1.56</td>\n",
       "      <td>184.0</td>\n",
       "      <td>0.0</td>\n",
       "      <td>0.0</td>\n",
       "      <td>0.0</td>\n",
       "      <td>0.0</td>\n",
       "      <td>0.0</td>\n",
       "      <td>7.10</td>\n",
       "      <td>434.3</td>\n",
       "    </tr>\n",
       "    <tr>\n",
       "      <th>2017-01-01 00:20:00</th>\n",
       "      <td>999.63</td>\n",
       "      <td>-5.05</td>\n",
       "      <td>268.13</td>\n",
       "      <td>-8.37</td>\n",
       "      <td>77.4</td>\n",
       "      <td>4.19</td>\n",
       "      <td>3.24</td>\n",
       "      <td>0.95</td>\n",
       "      <td>2.02</td>\n",
       "      <td>3.24</td>\n",
       "      <td>...</td>\n",
       "      <td>1.52</td>\n",
       "      <td>1.92</td>\n",
       "      <td>202.6</td>\n",
       "      <td>0.0</td>\n",
       "      <td>0.0</td>\n",
       "      <td>0.0</td>\n",
       "      <td>0.0</td>\n",
       "      <td>0.0</td>\n",
       "      <td>7.72</td>\n",
       "      <td>434.1</td>\n",
       "    </tr>\n",
       "    <tr>\n",
       "      <th>2017-01-01 00:30:00</th>\n",
       "      <td>999.54</td>\n",
       "      <td>-4.98</td>\n",
       "      <td>268.21</td>\n",
       "      <td>-8.38</td>\n",
       "      <td>76.9</td>\n",
       "      <td>4.21</td>\n",
       "      <td>3.24</td>\n",
       "      <td>0.97</td>\n",
       "      <td>2.02</td>\n",
       "      <td>3.24</td>\n",
       "      <td>...</td>\n",
       "      <td>0.98</td>\n",
       "      <td>1.78</td>\n",
       "      <td>227.4</td>\n",
       "      <td>0.0</td>\n",
       "      <td>0.0</td>\n",
       "      <td>0.0</td>\n",
       "      <td>0.0</td>\n",
       "      <td>0.0</td>\n",
       "      <td>8.77</td>\n",
       "      <td>430.4</td>\n",
       "    </tr>\n",
       "    <tr>\n",
       "      <th>2017-01-01 00:40:00</th>\n",
       "      <td>999.40</td>\n",
       "      <td>-4.88</td>\n",
       "      <td>268.33</td>\n",
       "      <td>-8.56</td>\n",
       "      <td>75.2</td>\n",
       "      <td>4.25</td>\n",
       "      <td>3.19</td>\n",
       "      <td>1.05</td>\n",
       "      <td>1.99</td>\n",
       "      <td>3.20</td>\n",
       "      <td>...</td>\n",
       "      <td>1.16</td>\n",
       "      <td>1.80</td>\n",
       "      <td>212.5</td>\n",
       "      <td>0.0</td>\n",
       "      <td>0.0</td>\n",
       "      <td>0.0</td>\n",
       "      <td>0.0</td>\n",
       "      <td>0.0</td>\n",
       "      <td>9.36</td>\n",
       "      <td>430.6</td>\n",
       "    </tr>\n",
       "    <tr>\n",
       "      <th>2017-01-01 00:50:00</th>\n",
       "      <td>999.17</td>\n",
       "      <td>-5.17</td>\n",
       "      <td>268.06</td>\n",
       "      <td>-8.74</td>\n",
       "      <td>75.8</td>\n",
       "      <td>4.15</td>\n",
       "      <td>3.15</td>\n",
       "      <td>1.01</td>\n",
       "      <td>1.96</td>\n",
       "      <td>3.15</td>\n",
       "      <td>...</td>\n",
       "      <td>1.50</td>\n",
       "      <td>2.64</td>\n",
       "      <td>222.1</td>\n",
       "      <td>0.0</td>\n",
       "      <td>0.0</td>\n",
       "      <td>0.0</td>\n",
       "      <td>0.0</td>\n",
       "      <td>0.0</td>\n",
       "      <td>9.45</td>\n",
       "      <td>429.5</td>\n",
       "    </tr>\n",
       "  </tbody>\n",
       "</table>\n",
       "<p>5 rows × 21 columns</p>\n",
       "</div>\n",
       "    <div class=\"colab-df-buttons\">\n",
       "\n",
       "  <div class=\"colab-df-container\">\n",
       "    <button class=\"colab-df-convert\" onclick=\"convertToInteractive('df-8c6596ad-74e9-4949-bdc4-2f7d8e5bd59f')\"\n",
       "            title=\"Convert this dataframe to an interactive table.\"\n",
       "            style=\"display:none;\">\n",
       "\n",
       "  <svg xmlns=\"http://www.w3.org/2000/svg\" height=\"24px\" viewBox=\"0 -960 960 960\">\n",
       "    <path d=\"M120-120v-720h720v720H120Zm60-500h600v-160H180v160Zm220 220h160v-160H400v160Zm0 220h160v-160H400v160ZM180-400h160v-160H180v160Zm440 0h160v-160H620v160ZM180-180h160v-160H180v160Zm440 0h160v-160H620v160Z\"/>\n",
       "  </svg>\n",
       "    </button>\n",
       "\n",
       "  <style>\n",
       "    .colab-df-container {\n",
       "      display:flex;\n",
       "      gap: 12px;\n",
       "    }\n",
       "\n",
       "    .colab-df-convert {\n",
       "      background-color: #E8F0FE;\n",
       "      border: none;\n",
       "      border-radius: 50%;\n",
       "      cursor: pointer;\n",
       "      display: none;\n",
       "      fill: #1967D2;\n",
       "      height: 32px;\n",
       "      padding: 0 0 0 0;\n",
       "      width: 32px;\n",
       "    }\n",
       "\n",
       "    .colab-df-convert:hover {\n",
       "      background-color: #E2EBFA;\n",
       "      box-shadow: 0px 1px 2px rgba(60, 64, 67, 0.3), 0px 1px 3px 1px rgba(60, 64, 67, 0.15);\n",
       "      fill: #174EA6;\n",
       "    }\n",
       "\n",
       "    .colab-df-buttons div {\n",
       "      margin-bottom: 4px;\n",
       "    }\n",
       "\n",
       "    [theme=dark] .colab-df-convert {\n",
       "      background-color: #3B4455;\n",
       "      fill: #D2E3FC;\n",
       "    }\n",
       "\n",
       "    [theme=dark] .colab-df-convert:hover {\n",
       "      background-color: #434B5C;\n",
       "      box-shadow: 0px 1px 3px 1px rgba(0, 0, 0, 0.15);\n",
       "      filter: drop-shadow(0px 1px 2px rgba(0, 0, 0, 0.3));\n",
       "      fill: #FFFFFF;\n",
       "    }\n",
       "  </style>\n",
       "\n",
       "    <script>\n",
       "      const buttonEl =\n",
       "        document.querySelector('#df-8c6596ad-74e9-4949-bdc4-2f7d8e5bd59f button.colab-df-convert');\n",
       "      buttonEl.style.display =\n",
       "        google.colab.kernel.accessAllowed ? 'block' : 'none';\n",
       "\n",
       "      async function convertToInteractive(key) {\n",
       "        const element = document.querySelector('#df-8c6596ad-74e9-4949-bdc4-2f7d8e5bd59f');\n",
       "        const dataTable =\n",
       "          await google.colab.kernel.invokeFunction('convertToInteractive',\n",
       "                                                    [key], {});\n",
       "        if (!dataTable) return;\n",
       "\n",
       "        const docLinkHtml = 'Like what you see? Visit the ' +\n",
       "          '<a target=\"_blank\" href=https://colab.research.google.com/notebooks/data_table.ipynb>data table notebook</a>'\n",
       "          + ' to learn more about interactive tables.';\n",
       "        element.innerHTML = '';\n",
       "        dataTable['output_type'] = 'display_data';\n",
       "        await google.colab.output.renderOutput(dataTable, element);\n",
       "        const docLink = document.createElement('div');\n",
       "        docLink.innerHTML = docLinkHtml;\n",
       "        element.appendChild(docLink);\n",
       "      }\n",
       "    </script>\n",
       "  </div>\n",
       "\n",
       "\n",
       "    <div id=\"df-95786739-3874-4146-8783-3684dff26796\">\n",
       "      <button class=\"colab-df-quickchart\" onclick=\"quickchart('df-95786739-3874-4146-8783-3684dff26796')\"\n",
       "                title=\"Suggest charts\"\n",
       "                style=\"display:none;\">\n",
       "\n",
       "<svg xmlns=\"http://www.w3.org/2000/svg\" height=\"24px\"viewBox=\"0 0 24 24\"\n",
       "     width=\"24px\">\n",
       "    <g>\n",
       "        <path d=\"M19 3H5c-1.1 0-2 .9-2 2v14c0 1.1.9 2 2 2h14c1.1 0 2-.9 2-2V5c0-1.1-.9-2-2-2zM9 17H7v-7h2v7zm4 0h-2V7h2v10zm4 0h-2v-4h2v4z\"/>\n",
       "    </g>\n",
       "</svg>\n",
       "      </button>\n",
       "\n",
       "<style>\n",
       "  .colab-df-quickchart {\n",
       "      --bg-color: #E8F0FE;\n",
       "      --fill-color: #1967D2;\n",
       "      --hover-bg-color: #E2EBFA;\n",
       "      --hover-fill-color: #174EA6;\n",
       "      --disabled-fill-color: #AAA;\n",
       "      --disabled-bg-color: #DDD;\n",
       "  }\n",
       "\n",
       "  [theme=dark] .colab-df-quickchart {\n",
       "      --bg-color: #3B4455;\n",
       "      --fill-color: #D2E3FC;\n",
       "      --hover-bg-color: #434B5C;\n",
       "      --hover-fill-color: #FFFFFF;\n",
       "      --disabled-bg-color: #3B4455;\n",
       "      --disabled-fill-color: #666;\n",
       "  }\n",
       "\n",
       "  .colab-df-quickchart {\n",
       "    background-color: var(--bg-color);\n",
       "    border: none;\n",
       "    border-radius: 50%;\n",
       "    cursor: pointer;\n",
       "    display: none;\n",
       "    fill: var(--fill-color);\n",
       "    height: 32px;\n",
       "    padding: 0;\n",
       "    width: 32px;\n",
       "  }\n",
       "\n",
       "  .colab-df-quickchart:hover {\n",
       "    background-color: var(--hover-bg-color);\n",
       "    box-shadow: 0 1px 2px rgba(60, 64, 67, 0.3), 0 1px 3px 1px rgba(60, 64, 67, 0.15);\n",
       "    fill: var(--button-hover-fill-color);\n",
       "  }\n",
       "\n",
       "  .colab-df-quickchart-complete:disabled,\n",
       "  .colab-df-quickchart-complete:disabled:hover {\n",
       "    background-color: var(--disabled-bg-color);\n",
       "    fill: var(--disabled-fill-color);\n",
       "    box-shadow: none;\n",
       "  }\n",
       "\n",
       "  .colab-df-spinner {\n",
       "    border: 2px solid var(--fill-color);\n",
       "    border-color: transparent;\n",
       "    border-bottom-color: var(--fill-color);\n",
       "    animation:\n",
       "      spin 1s steps(1) infinite;\n",
       "  }\n",
       "\n",
       "  @keyframes spin {\n",
       "    0% {\n",
       "      border-color: transparent;\n",
       "      border-bottom-color: var(--fill-color);\n",
       "      border-left-color: var(--fill-color);\n",
       "    }\n",
       "    20% {\n",
       "      border-color: transparent;\n",
       "      border-left-color: var(--fill-color);\n",
       "      border-top-color: var(--fill-color);\n",
       "    }\n",
       "    30% {\n",
       "      border-color: transparent;\n",
       "      border-left-color: var(--fill-color);\n",
       "      border-top-color: var(--fill-color);\n",
       "      border-right-color: var(--fill-color);\n",
       "    }\n",
       "    40% {\n",
       "      border-color: transparent;\n",
       "      border-right-color: var(--fill-color);\n",
       "      border-top-color: var(--fill-color);\n",
       "    }\n",
       "    60% {\n",
       "      border-color: transparent;\n",
       "      border-right-color: var(--fill-color);\n",
       "    }\n",
       "    80% {\n",
       "      border-color: transparent;\n",
       "      border-right-color: var(--fill-color);\n",
       "      border-bottom-color: var(--fill-color);\n",
       "    }\n",
       "    90% {\n",
       "      border-color: transparent;\n",
       "      border-bottom-color: var(--fill-color);\n",
       "    }\n",
       "  }\n",
       "</style>\n",
       "\n",
       "      <script>\n",
       "        async function quickchart(key) {\n",
       "          const quickchartButtonEl =\n",
       "            document.querySelector('#' + key + ' button');\n",
       "          quickchartButtonEl.disabled = true;  // To prevent multiple clicks.\n",
       "          quickchartButtonEl.classList.add('colab-df-spinner');\n",
       "          try {\n",
       "            const charts = await google.colab.kernel.invokeFunction(\n",
       "                'suggestCharts', [key], {});\n",
       "          } catch (error) {\n",
       "            console.error('Error during call to suggestCharts:', error);\n",
       "          }\n",
       "          quickchartButtonEl.classList.remove('colab-df-spinner');\n",
       "          quickchartButtonEl.classList.add('colab-df-quickchart-complete');\n",
       "        }\n",
       "        (() => {\n",
       "          let quickchartButtonEl =\n",
       "            document.querySelector('#df-95786739-3874-4146-8783-3684dff26796 button');\n",
       "          quickchartButtonEl.style.display =\n",
       "            google.colab.kernel.accessAllowed ? 'block' : 'none';\n",
       "        })();\n",
       "      </script>\n",
       "    </div>\n",
       "\n",
       "    </div>\n",
       "  </div>\n"
      ],
      "text/plain": [
       "                     p (mbar)  T (degC)  Tpot (K)  Tdew (degC)  rh (%)  \\\n",
       "Date Time                                                                \n",
       "2017-01-01 00:10:00    999.77     -4.91    268.27        -8.41    76.3   \n",
       "2017-01-01 00:20:00    999.63     -5.05    268.13        -8.37    77.4   \n",
       "2017-01-01 00:30:00    999.54     -4.98    268.21        -8.38    76.9   \n",
       "2017-01-01 00:40:00    999.40     -4.88    268.33        -8.56    75.2   \n",
       "2017-01-01 00:50:00    999.17     -5.17    268.06        -8.74    75.8   \n",
       "\n",
       "                     VPmax (mbar)  VPact (mbar)  VPdef (mbar)  sh (g/kg)  \\\n",
       "Date Time                                                                  \n",
       "2017-01-01 00:10:00          4.24          3.23          1.00       2.01   \n",
       "2017-01-01 00:20:00          4.19          3.24          0.95       2.02   \n",
       "2017-01-01 00:30:00          4.21          3.24          0.97       2.02   \n",
       "2017-01-01 00:40:00          4.25          3.19          1.05       1.99   \n",
       "2017-01-01 00:50:00          4.15          3.15          1.01       1.96   \n",
       "\n",
       "                     H2OC (mmol/mol)  ...  wv (m/s)  max. wv (m/s)  wd (deg)  \\\n",
       "Date Time                             ...                                      \n",
       "2017-01-01 00:10:00             3.23  ...      0.78           1.56     184.0   \n",
       "2017-01-01 00:20:00             3.24  ...      1.52           1.92     202.6   \n",
       "2017-01-01 00:30:00             3.24  ...      0.98           1.78     227.4   \n",
       "2017-01-01 00:40:00             3.20  ...      1.16           1.80     212.5   \n",
       "2017-01-01 00:50:00             3.15  ...      1.50           2.64     222.1   \n",
       "\n",
       "                     rain (mm)  raining (s)  SWDR (W/m²)  PAR (µmol/m²/s)  \\\n",
       "Date Time                                                                   \n",
       "2017-01-01 00:10:00        0.0          0.0          0.0              0.0   \n",
       "2017-01-01 00:20:00        0.0          0.0          0.0              0.0   \n",
       "2017-01-01 00:30:00        0.0          0.0          0.0              0.0   \n",
       "2017-01-01 00:40:00        0.0          0.0          0.0              0.0   \n",
       "2017-01-01 00:50:00        0.0          0.0          0.0              0.0   \n",
       "\n",
       "                     max. PAR (µmol/m²/s)  Tlog (degC)  CO2 (ppm)  \n",
       "Date Time                                                          \n",
       "2017-01-01 00:10:00                   0.0         7.10      434.3  \n",
       "2017-01-01 00:20:00                   0.0         7.72      434.1  \n",
       "2017-01-01 00:30:00                   0.0         8.77      430.4  \n",
       "2017-01-01 00:40:00                   0.0         9.36      430.6  \n",
       "2017-01-01 00:50:00                   0.0         9.45      429.5  \n",
       "\n",
       "[5 rows x 21 columns]"
      ]
     },
     "execution_count": 4,
     "metadata": {},
     "output_type": "execute_result"
    }
   ],
   "source": [
    "DATA_PATH = \"../data/raw/jena_climate_2017_2024.csv\"\n",
    "df = pd.read_csv(DATA_PATH)\n",
    "df[\"Date Time\"] = pd.to_datetime(df[\"Date Time\"])\n",
    "df.set_index(\"Date Time\", inplace=True)\n",
    "df.head()"
   ]
  },
  {
   "cell_type": "code",
   "execution_count": 5,
   "id": "3d4e8fe9-f7c0-4c1e-89ea-bcab4b27618a",
   "metadata": {
    "colab": {
     "base_uri": "https://localhost:8080/"
    },
    "executionInfo": {
     "elapsed": 45,
     "status": "ok",
     "timestamp": 1746031063148,
     "user": {
      "displayName": "Sushrut Gaikwad",
      "userId": "15631276603440254581"
     },
     "user_tz": 240
    },
    "id": "3d4e8fe9-f7c0-4c1e-89ea-bcab4b27618a",
    "outputId": "a8de942b-7845-4e15-b6be-fd74f57a860b"
   },
   "outputs": [
    {
     "data": {
      "text/plain": [
       "(420782, 21)"
      ]
     },
     "execution_count": 5,
     "metadata": {},
     "output_type": "execute_result"
    }
   ],
   "source": [
    "df.shape"
   ]
  },
  {
   "cell_type": "markdown",
   "id": "c2a4f1bb-51ef-4ac2-8cff-165599cc3470",
   "metadata": {
    "id": "c2a4f1bb-51ef-4ac2-8cff-165599cc3470"
   },
   "source": [
    "# Removing Duplicates"
   ]
  },
  {
   "cell_type": "code",
   "execution_count": 6,
   "id": "615c0a80-2d92-4a48-87d4-304654d85a56",
   "metadata": {
    "colab": {
     "base_uri": "https://localhost:8080/"
    },
    "executionInfo": {
     "elapsed": 93,
     "status": "ok",
     "timestamp": 1746031065876,
     "user": {
      "displayName": "Sushrut Gaikwad",
      "userId": "15631276603440254581"
     },
     "user_tz": 240
    },
    "id": "615c0a80-2d92-4a48-87d4-304654d85a56",
    "outputId": "c0c200c7-2e4b-4589-c27a-e9c5ef26d1e8"
   },
   "outputs": [
    {
     "data": {
      "text/plain": [
       "(420631, 21)"
      ]
     },
     "execution_count": 6,
     "metadata": {},
     "output_type": "execute_result"
    }
   ],
   "source": [
    "df = df[~df.index.duplicated(keep='first')]\n",
    "df.shape"
   ]
  },
  {
   "cell_type": "markdown",
   "id": "4cac9899-1e18-4fde-8332-e80e2e5e3446",
   "metadata": {
    "id": "4cac9899-1e18-4fde-8332-e80e2e5e3446"
   },
   "source": [
    "# Missing Values"
   ]
  },
  {
   "cell_type": "markdown",
   "id": "9072c0b2-e6cd-4f9e-986a-7adeea191f69",
   "metadata": {
    "id": "9072c0b2-e6cd-4f9e-986a-7adeea191f69"
   },
   "source": [
    "## Converting -9999 values to NaN"
   ]
  },
  {
   "cell_type": "code",
   "execution_count": 7,
   "id": "2b890df9-fe6d-4cc5-ac8a-b101c0bbef52",
   "metadata": {
    "colab": {
     "base_uri": "https://localhost:8080/"
    },
    "executionInfo": {
     "elapsed": 56,
     "status": "ok",
     "timestamp": 1746031068773,
     "user": {
      "displayName": "Sushrut Gaikwad",
      "userId": "15631276603440254581"
     },
     "user_tz": 240
    },
    "id": "2b890df9-fe6d-4cc5-ac8a-b101c0bbef52",
    "outputId": "9f042155-2e8a-41f6-b1cb-3767a0168e04"
   },
   "outputs": [
    {
     "data": {
      "text/plain": [
       "(420631, 21)"
      ]
     },
     "execution_count": 7,
     "metadata": {},
     "output_type": "execute_result"
    }
   ],
   "source": [
    "df = df.replace(-9999, np.nan)\n",
    "df.shape"
   ]
  },
  {
   "cell_type": "markdown",
   "id": "70a31f96-7b40-449a-8243-1c306c43e722",
   "metadata": {
    "id": "70a31f96-7b40-449a-8243-1c306c43e722"
   },
   "source": [
    "## Converting Erroneously Low CO2 Concentration to NaN"
   ]
  },
  {
   "cell_type": "code",
   "execution_count": 8,
   "id": "950d3537-3fb5-4954-b827-057c6c3d19b0",
   "metadata": {
    "colab": {
     "base_uri": "https://localhost:8080/"
    },
    "executionInfo": {
     "elapsed": 3,
     "status": "ok",
     "timestamp": 1746031071697,
     "user": {
      "displayName": "Sushrut Gaikwad",
      "userId": "15631276603440254581"
     },
     "user_tz": 240
    },
    "id": "950d3537-3fb5-4954-b827-057c6c3d19b0",
    "outputId": "a66e25e4-9272-44d5-acab-b7788abeff80"
   },
   "outputs": [
    {
     "data": {
      "text/plain": [
       "(420631, 21)"
      ]
     },
     "execution_count": 8,
     "metadata": {},
     "output_type": "execute_result"
    }
   ],
   "source": [
    "df.loc[df['CO2 (ppm)'] <= 375, 'CO2 (ppm)'] = np.nan\n",
    "df.shape"
   ]
  },
  {
   "cell_type": "code",
   "execution_count": 9,
   "id": "2fef46ae-74d2-4f37-8601-119d42ded23f",
   "metadata": {
    "colab": {
     "base_uri": "https://localhost:8080/",
     "height": 742
    },
    "executionInfo": {
     "elapsed": 22,
     "status": "ok",
     "timestamp": 1746031072203,
     "user": {
      "displayName": "Sushrut Gaikwad",
      "userId": "15631276603440254581"
     },
     "user_tz": 240
    },
    "id": "2fef46ae-74d2-4f37-8601-119d42ded23f",
    "outputId": "f3821db3-a403-418f-8f59-8575335e4edb"
   },
   "outputs": [
    {
     "data": {
      "text/html": [
       "<div>\n",
       "<style scoped>\n",
       "    .dataframe tbody tr th:only-of-type {\n",
       "        vertical-align: middle;\n",
       "    }\n",
       "\n",
       "    .dataframe tbody tr th {\n",
       "        vertical-align: top;\n",
       "    }\n",
       "\n",
       "    .dataframe thead th {\n",
       "        text-align: right;\n",
       "    }\n",
       "</style>\n",
       "<table border=\"1\" class=\"dataframe\">\n",
       "  <thead>\n",
       "    <tr style=\"text-align: right;\">\n",
       "      <th></th>\n",
       "      <th>0</th>\n",
       "    </tr>\n",
       "  </thead>\n",
       "  <tbody>\n",
       "    <tr>\n",
       "      <th>p (mbar)</th>\n",
       "      <td>0</td>\n",
       "    </tr>\n",
       "    <tr>\n",
       "      <th>T (degC)</th>\n",
       "      <td>0</td>\n",
       "    </tr>\n",
       "    <tr>\n",
       "      <th>Tpot (K)</th>\n",
       "      <td>0</td>\n",
       "    </tr>\n",
       "    <tr>\n",
       "      <th>Tdew (degC)</th>\n",
       "      <td>0</td>\n",
       "    </tr>\n",
       "    <tr>\n",
       "      <th>rh (%)</th>\n",
       "      <td>0</td>\n",
       "    </tr>\n",
       "    <tr>\n",
       "      <th>VPmax (mbar)</th>\n",
       "      <td>0</td>\n",
       "    </tr>\n",
       "    <tr>\n",
       "      <th>VPact (mbar)</th>\n",
       "      <td>0</td>\n",
       "    </tr>\n",
       "    <tr>\n",
       "      <th>VPdef (mbar)</th>\n",
       "      <td>0</td>\n",
       "    </tr>\n",
       "    <tr>\n",
       "      <th>sh (g/kg)</th>\n",
       "      <td>0</td>\n",
       "    </tr>\n",
       "    <tr>\n",
       "      <th>H2OC (mmol/mol)</th>\n",
       "      <td>0</td>\n",
       "    </tr>\n",
       "    <tr>\n",
       "      <th>rho (g/m**3)</th>\n",
       "      <td>0</td>\n",
       "    </tr>\n",
       "    <tr>\n",
       "      <th>wv (m/s)</th>\n",
       "      <td>1</td>\n",
       "    </tr>\n",
       "    <tr>\n",
       "      <th>max. wv (m/s)</th>\n",
       "      <td>0</td>\n",
       "    </tr>\n",
       "    <tr>\n",
       "      <th>wd (deg)</th>\n",
       "      <td>0</td>\n",
       "    </tr>\n",
       "    <tr>\n",
       "      <th>rain (mm)</th>\n",
       "      <td>0</td>\n",
       "    </tr>\n",
       "    <tr>\n",
       "      <th>raining (s)</th>\n",
       "      <td>0</td>\n",
       "    </tr>\n",
       "    <tr>\n",
       "      <th>SWDR (W/m²)</th>\n",
       "      <td>1</td>\n",
       "    </tr>\n",
       "    <tr>\n",
       "      <th>PAR (µmol/m²/s)</th>\n",
       "      <td>0</td>\n",
       "    </tr>\n",
       "    <tr>\n",
       "      <th>max. PAR (µmol/m²/s)</th>\n",
       "      <td>128</td>\n",
       "    </tr>\n",
       "    <tr>\n",
       "      <th>Tlog (degC)</th>\n",
       "      <td>0</td>\n",
       "    </tr>\n",
       "    <tr>\n",
       "      <th>CO2 (ppm)</th>\n",
       "      <td>822</td>\n",
       "    </tr>\n",
       "  </tbody>\n",
       "</table>\n",
       "</div><br><label><b>dtype:</b> int64</label>"
      ],
      "text/plain": [
       "p (mbar)                  0\n",
       "T (degC)                  0\n",
       "Tpot (K)                  0\n",
       "Tdew (degC)               0\n",
       "rh (%)                    0\n",
       "VPmax (mbar)              0\n",
       "VPact (mbar)              0\n",
       "VPdef (mbar)              0\n",
       "sh (g/kg)                 0\n",
       "H2OC (mmol/mol)           0\n",
       "rho (g/m**3)              0\n",
       "wv (m/s)                  1\n",
       "max. wv (m/s)             0\n",
       "wd (deg)                  0\n",
       "rain (mm)                 0\n",
       "raining (s)               0\n",
       "SWDR (W/m²)               1\n",
       "PAR (µmol/m²/s)           0\n",
       "max. PAR (µmol/m²/s)    128\n",
       "Tlog (degC)               0\n",
       "CO2 (ppm)               822\n",
       "dtype: int64"
      ]
     },
     "execution_count": 9,
     "metadata": {},
     "output_type": "execute_result"
    }
   ],
   "source": [
    "df.isna().sum()"
   ]
  },
  {
   "cell_type": "code",
   "execution_count": 10,
   "id": "765b9a3d-ba86-4bbe-9222-ec3662dc134c",
   "metadata": {
    "colab": {
     "base_uri": "https://localhost:8080/",
     "height": 742
    },
    "executionInfo": {
     "elapsed": 40,
     "status": "ok",
     "timestamp": 1746031072337,
     "user": {
      "displayName": "Sushrut Gaikwad",
      "userId": "15631276603440254581"
     },
     "user_tz": 240
    },
    "id": "765b9a3d-ba86-4bbe-9222-ec3662dc134c",
    "outputId": "0c6a4ada-d4d8-4bab-b8ac-37418ac42c07"
   },
   "outputs": [
    {
     "data": {
      "text/html": [
       "<div>\n",
       "<style scoped>\n",
       "    .dataframe tbody tr th:only-of-type {\n",
       "        vertical-align: middle;\n",
       "    }\n",
       "\n",
       "    .dataframe tbody tr th {\n",
       "        vertical-align: top;\n",
       "    }\n",
       "\n",
       "    .dataframe thead th {\n",
       "        text-align: right;\n",
       "    }\n",
       "</style>\n",
       "<table border=\"1\" class=\"dataframe\">\n",
       "  <thead>\n",
       "    <tr style=\"text-align: right;\">\n",
       "      <th></th>\n",
       "      <th>0</th>\n",
       "    </tr>\n",
       "  </thead>\n",
       "  <tbody>\n",
       "    <tr>\n",
       "      <th>p (mbar)</th>\n",
       "      <td>0.000000</td>\n",
       "    </tr>\n",
       "    <tr>\n",
       "      <th>T (degC)</th>\n",
       "      <td>0.000000</td>\n",
       "    </tr>\n",
       "    <tr>\n",
       "      <th>Tpot (K)</th>\n",
       "      <td>0.000000</td>\n",
       "    </tr>\n",
       "    <tr>\n",
       "      <th>Tdew (degC)</th>\n",
       "      <td>0.000000</td>\n",
       "    </tr>\n",
       "    <tr>\n",
       "      <th>rh (%)</th>\n",
       "      <td>0.000000</td>\n",
       "    </tr>\n",
       "    <tr>\n",
       "      <th>VPmax (mbar)</th>\n",
       "      <td>0.000000</td>\n",
       "    </tr>\n",
       "    <tr>\n",
       "      <th>VPact (mbar)</th>\n",
       "      <td>0.000000</td>\n",
       "    </tr>\n",
       "    <tr>\n",
       "      <th>VPdef (mbar)</th>\n",
       "      <td>0.000000</td>\n",
       "    </tr>\n",
       "    <tr>\n",
       "      <th>sh (g/kg)</th>\n",
       "      <td>0.000000</td>\n",
       "    </tr>\n",
       "    <tr>\n",
       "      <th>H2OC (mmol/mol)</th>\n",
       "      <td>0.000000</td>\n",
       "    </tr>\n",
       "    <tr>\n",
       "      <th>rho (g/m**3)</th>\n",
       "      <td>0.000000</td>\n",
       "    </tr>\n",
       "    <tr>\n",
       "      <th>wv (m/s)</th>\n",
       "      <td>0.000238</td>\n",
       "    </tr>\n",
       "    <tr>\n",
       "      <th>max. wv (m/s)</th>\n",
       "      <td>0.000000</td>\n",
       "    </tr>\n",
       "    <tr>\n",
       "      <th>wd (deg)</th>\n",
       "      <td>0.000000</td>\n",
       "    </tr>\n",
       "    <tr>\n",
       "      <th>rain (mm)</th>\n",
       "      <td>0.000000</td>\n",
       "    </tr>\n",
       "    <tr>\n",
       "      <th>raining (s)</th>\n",
       "      <td>0.000000</td>\n",
       "    </tr>\n",
       "    <tr>\n",
       "      <th>SWDR (W/m²)</th>\n",
       "      <td>0.000238</td>\n",
       "    </tr>\n",
       "    <tr>\n",
       "      <th>PAR (µmol/m²/s)</th>\n",
       "      <td>0.000000</td>\n",
       "    </tr>\n",
       "    <tr>\n",
       "      <th>max. PAR (µmol/m²/s)</th>\n",
       "      <td>0.030430</td>\n",
       "    </tr>\n",
       "    <tr>\n",
       "      <th>Tlog (degC)</th>\n",
       "      <td>0.000000</td>\n",
       "    </tr>\n",
       "    <tr>\n",
       "      <th>CO2 (ppm)</th>\n",
       "      <td>0.195421</td>\n",
       "    </tr>\n",
       "  </tbody>\n",
       "</table>\n",
       "</div><br><label><b>dtype:</b> float64</label>"
      ],
      "text/plain": [
       "p (mbar)                0.000000\n",
       "T (degC)                0.000000\n",
       "Tpot (K)                0.000000\n",
       "Tdew (degC)             0.000000\n",
       "rh (%)                  0.000000\n",
       "VPmax (mbar)            0.000000\n",
       "VPact (mbar)            0.000000\n",
       "VPdef (mbar)            0.000000\n",
       "sh (g/kg)               0.000000\n",
       "H2OC (mmol/mol)         0.000000\n",
       "rho (g/m**3)            0.000000\n",
       "wv (m/s)                0.000238\n",
       "max. wv (m/s)           0.000000\n",
       "wd (deg)                0.000000\n",
       "rain (mm)               0.000000\n",
       "raining (s)             0.000000\n",
       "SWDR (W/m²)             0.000238\n",
       "PAR (µmol/m²/s)         0.000000\n",
       "max. PAR (µmol/m²/s)    0.030430\n",
       "Tlog (degC)             0.000000\n",
       "CO2 (ppm)               0.195421\n",
       "dtype: float64"
      ]
     },
     "execution_count": 10,
     "metadata": {},
     "output_type": "execute_result"
    }
   ],
   "source": [
    "# Percentage of missing values\n",
    "\n",
    "(df.isna().sum() / len(df))*100"
   ]
  },
  {
   "cell_type": "markdown",
   "id": "361599a6-a43e-4dec-b1c9-5749163d0955",
   "metadata": {
    "id": "361599a6-a43e-4dec-b1c9-5749163d0955"
   },
   "source": [
    "## Imputing Missing Values using Interpolation"
   ]
  },
  {
   "cell_type": "code",
   "execution_count": 11,
   "id": "186f2b1b-9b9f-47af-b9ee-c0e3355682bc",
   "metadata": {
    "colab": {
     "base_uri": "https://localhost:8080/",
     "height": 742
    },
    "executionInfo": {
     "elapsed": 159,
     "status": "ok",
     "timestamp": 1746031080797,
     "user": {
      "displayName": "Sushrut Gaikwad",
      "userId": "15631276603440254581"
     },
     "user_tz": 240
    },
    "id": "186f2b1b-9b9f-47af-b9ee-c0e3355682bc",
    "outputId": "5e308f69-e18f-42a3-ab3e-3864757d83cd"
   },
   "outputs": [
    {
     "data": {
      "text/html": [
       "<div>\n",
       "<style scoped>\n",
       "    .dataframe tbody tr th:only-of-type {\n",
       "        vertical-align: middle;\n",
       "    }\n",
       "\n",
       "    .dataframe tbody tr th {\n",
       "        vertical-align: top;\n",
       "    }\n",
       "\n",
       "    .dataframe thead th {\n",
       "        text-align: right;\n",
       "    }\n",
       "</style>\n",
       "<table border=\"1\" class=\"dataframe\">\n",
       "  <thead>\n",
       "    <tr style=\"text-align: right;\">\n",
       "      <th></th>\n",
       "      <th>0</th>\n",
       "    </tr>\n",
       "  </thead>\n",
       "  <tbody>\n",
       "    <tr>\n",
       "      <th>p (mbar)</th>\n",
       "      <td>0</td>\n",
       "    </tr>\n",
       "    <tr>\n",
       "      <th>T (degC)</th>\n",
       "      <td>0</td>\n",
       "    </tr>\n",
       "    <tr>\n",
       "      <th>Tpot (K)</th>\n",
       "      <td>0</td>\n",
       "    </tr>\n",
       "    <tr>\n",
       "      <th>Tdew (degC)</th>\n",
       "      <td>0</td>\n",
       "    </tr>\n",
       "    <tr>\n",
       "      <th>rh (%)</th>\n",
       "      <td>0</td>\n",
       "    </tr>\n",
       "    <tr>\n",
       "      <th>VPmax (mbar)</th>\n",
       "      <td>0</td>\n",
       "    </tr>\n",
       "    <tr>\n",
       "      <th>VPact (mbar)</th>\n",
       "      <td>0</td>\n",
       "    </tr>\n",
       "    <tr>\n",
       "      <th>VPdef (mbar)</th>\n",
       "      <td>0</td>\n",
       "    </tr>\n",
       "    <tr>\n",
       "      <th>sh (g/kg)</th>\n",
       "      <td>0</td>\n",
       "    </tr>\n",
       "    <tr>\n",
       "      <th>H2OC (mmol/mol)</th>\n",
       "      <td>0</td>\n",
       "    </tr>\n",
       "    <tr>\n",
       "      <th>rho (g/m**3)</th>\n",
       "      <td>0</td>\n",
       "    </tr>\n",
       "    <tr>\n",
       "      <th>wv (m/s)</th>\n",
       "      <td>0</td>\n",
       "    </tr>\n",
       "    <tr>\n",
       "      <th>max. wv (m/s)</th>\n",
       "      <td>0</td>\n",
       "    </tr>\n",
       "    <tr>\n",
       "      <th>wd (deg)</th>\n",
       "      <td>0</td>\n",
       "    </tr>\n",
       "    <tr>\n",
       "      <th>rain (mm)</th>\n",
       "      <td>0</td>\n",
       "    </tr>\n",
       "    <tr>\n",
       "      <th>raining (s)</th>\n",
       "      <td>0</td>\n",
       "    </tr>\n",
       "    <tr>\n",
       "      <th>SWDR (W/m²)</th>\n",
       "      <td>0</td>\n",
       "    </tr>\n",
       "    <tr>\n",
       "      <th>PAR (µmol/m²/s)</th>\n",
       "      <td>0</td>\n",
       "    </tr>\n",
       "    <tr>\n",
       "      <th>max. PAR (µmol/m²/s)</th>\n",
       "      <td>0</td>\n",
       "    </tr>\n",
       "    <tr>\n",
       "      <th>Tlog (degC)</th>\n",
       "      <td>0</td>\n",
       "    </tr>\n",
       "    <tr>\n",
       "      <th>CO2 (ppm)</th>\n",
       "      <td>0</td>\n",
       "    </tr>\n",
       "  </tbody>\n",
       "</table>\n",
       "</div><br><label><b>dtype:</b> int64</label>"
      ],
      "text/plain": [
       "p (mbar)                0\n",
       "T (degC)                0\n",
       "Tpot (K)                0\n",
       "Tdew (degC)             0\n",
       "rh (%)                  0\n",
       "VPmax (mbar)            0\n",
       "VPact (mbar)            0\n",
       "VPdef (mbar)            0\n",
       "sh (g/kg)               0\n",
       "H2OC (mmol/mol)         0\n",
       "rho (g/m**3)            0\n",
       "wv (m/s)                0\n",
       "max. wv (m/s)           0\n",
       "wd (deg)                0\n",
       "rain (mm)               0\n",
       "raining (s)             0\n",
       "SWDR (W/m²)             0\n",
       "PAR (µmol/m²/s)         0\n",
       "max. PAR (µmol/m²/s)    0\n",
       "Tlog (degC)             0\n",
       "CO2 (ppm)               0\n",
       "dtype: int64"
      ]
     },
     "execution_count": 11,
     "metadata": {},
     "output_type": "execute_result"
    }
   ],
   "source": [
    "df.interpolate(method=\"time\", inplace=True)\n",
    "df.isna().sum()"
   ]
  },
  {
   "cell_type": "markdown",
   "id": "6bac8e42-86f5-44c4-8f63-52a294614b10",
   "metadata": {
    "id": "6bac8e42-86f5-44c4-8f63-52a294614b10"
   },
   "source": [
    "# Converting to Daily Resolution"
   ]
  },
  {
   "cell_type": "code",
   "execution_count": 12,
   "id": "3bcc2f37-035c-4bae-8164-682c0bb11032",
   "metadata": {
    "colab": {
     "base_uri": "https://localhost:8080/"
    },
    "executionInfo": {
     "elapsed": 51,
     "status": "ok",
     "timestamp": 1746031083643,
     "user": {
      "displayName": "Sushrut Gaikwad",
      "userId": "15631276603440254581"
     },
     "user_tz": 240
    },
    "id": "3bcc2f37-035c-4bae-8164-682c0bb11032",
    "outputId": "13b0b126-ea86-4e21-a19e-9e5d4c6d5685"
   },
   "outputs": [
    {
     "data": {
      "text/plain": [
       "(2923, 21)"
      ]
     },
     "execution_count": 12,
     "metadata": {},
     "output_type": "execute_result"
    }
   ],
   "source": [
    "df = df.resample(\"D\").mean()\n",
    "df.shape"
   ]
  },
  {
   "cell_type": "markdown",
   "id": "e64883ff-071f-4e6a-9dfa-7b098a1f193a",
   "metadata": {
    "id": "e64883ff-071f-4e6a-9dfa-7b098a1f193a"
   },
   "source": [
    "# Saving the Data"
   ]
  },
  {
   "cell_type": "code",
   "execution_count": null,
   "id": "af73b193-d585-4e76-87af-e62a5d39fdbb",
   "metadata": {
    "id": "af73b193-d585-4e76-87af-e62a5d39fdbb"
   },
   "outputs": [],
   "source": [
    "DAILY_DATA_PATH = \"../data/interim/daily_data.csv\"\n",
    "\n",
    "df.to_csv(DAILY_DATA_PATH, index=True)"
   ]
  },
  {
   "cell_type": "code",
   "execution_count": null,
   "id": "c2067e58-535a-4f78-b0cd-b23a1053bcd2",
   "metadata": {
    "id": "c2067e58-535a-4f78-b0cd-b23a1053bcd2"
   },
   "outputs": [],
   "source": []
  }
 ],
 "metadata": {
  "colab": {
   "provenance": []
  },
  "kernelspec": {
   "display_name": "Python 3 (ipykernel)",
   "language": "python",
   "name": "python3"
  },
  "language_info": {
   "codemirror_mode": {
    "name": "ipython",
    "version": 3
   },
   "file_extension": ".py",
   "mimetype": "text/x-python",
   "name": "python",
   "nbconvert_exporter": "python",
   "pygments_lexer": "ipython3",
   "version": "3.10.0"
  }
 },
 "nbformat": 4,
 "nbformat_minor": 5
}
